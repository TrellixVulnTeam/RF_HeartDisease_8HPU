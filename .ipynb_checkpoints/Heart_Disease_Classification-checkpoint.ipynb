{
 "cells": [
  {
   "cell_type": "markdown",
   "id": "7d0c2b82",
   "metadata": {},
   "source": [
    "# Heart Disease Classification"
   ]
  },
  {
   "cell_type": "markdown",
   "id": "a5c292c8",
   "metadata": {},
   "source": [
    "This Project will be to predict weather or not some one has heart disease based on some key indicators of heart disease.\n",
    "\n",
    "\n"
   ]
  },
  {
   "cell_type": "markdown",
   "id": "1d36a121",
   "metadata": {},
   "source": [
    "# Data"
   ]
  },
  {
   "cell_type": "markdown",
   "id": "af8e6bc4",
   "metadata": {},
   "source": [
    "The source of this data set is https://www.kaggle.com/datasets/kamilpytlak/personal-key-indicators-of-heart-disease?resource=download."
   ]
  },
  {
   "cell_type": "markdown",
   "id": "4e9b2877",
   "metadata": {},
   "source": [
    "## This data set includes the following features:"
   ]
  },
  {
   "cell_type": "markdown",
   "id": "7242a16b",
   "metadata": {},
   "source": [
    "* HeartDisease(Target) : Y/N -> 1/0\n",
    "* BMI : 0 -> 94.8\n",
    "* Smoking : Y/N -> 1/0\n",
    "* AlcoholDrinking(>14 for men or 7 for women drinks per week) : Y/N -> 1/0\n",
    "* Stroke : Y/N -> 1/0\n",
    "* PhysiclHealth(days in the last 30 days spent in poor physical health) : 1 ->30\n",
    "* MentalHealth(days in the last 30 days spent in poor mental health) : 1 ->30\n",
    "* DiffWalking(difficulty walking): Y/N -> 1/0\n",
    "* Sex : Male/Female -> 1/0\n",
    "* AgeCategory : (18-24,25-29,30-34,35-39,40-44,45-49,50-54,55-59,60-64,65-69,70-74,74-79,80 or older)\n",
    "* Race : ('White', 'Black', 'Asian', 'American Indian/Alaskan Native', 'Hispanic', 'Other')\n",
    "* Diabetic : (No, Borderline, Yes but pregnant, Yes)\n",
    "* PhysicalActivity(reported physical activity in last 30 days) : Y/N -> 1/0\n",
    "* GeneralHealth : ('Poor', 'Fair', 'Good', 'Very good', 'Excellent')\n",
    "* SleepTime(Average hours of sleep) : 1 -> 24\n",
    "* Asthma : Y/N -> 1/0\n",
    "* KidneyDisease : Y/N -> 1/0\n",
    "* SkinCancer : Y/N -> 1/0"
   ]
  },
  {
   "cell_type": "markdown",
   "id": "378b48ad",
   "metadata": {},
   "source": [
    "# Dependencies"
   ]
  },
  {
   "cell_type": "code",
   "execution_count": 135,
   "id": "983b9053",
   "metadata": {},
   "outputs": [],
   "source": [
    "import numpy as np\n",
    "import pandas as pd\n",
    "import matplotlib.pyplot as plt\n",
    "import seaborn as sns\n",
    "import pickle\n",
    "\n",
    "from sklearn.ensemble import RandomForestClassifier\n",
    "from sklearn.model_selection import train_test_split, cross_val_score, RandomizedSearchCV, GridSearchCV\n",
    "from sklearn.metrics import confusion_matrix, classification_report, precision_score, recall_score, f1_score, plot_roc_curve\n",
    "from sklearn.preprocessing import OneHotEncoder\n",
    "from sklearn.compose import ColumnTransformer\n",
    "from sklearn.utils import shuffle\n",
    "\n",
    "# Set plots to appear in notebook\n",
    "%matplotlib inline"
   ]
  },
  {
   "cell_type": "markdown",
   "id": "37244434",
   "metadata": {},
   "source": [
    "# Bring In Data"
   ]
  },
  {
   "cell_type": "code",
   "execution_count": 136,
   "id": "22f834ec",
   "metadata": {},
   "outputs": [],
   "source": [
    "# bring in data set and save to pandas data frame df\n",
    "df = pd.read_csv(\"DataSets\\heart_2020_cleaned.csv\")"
   ]
  },
  {
   "cell_type": "code",
   "execution_count": 137,
   "id": "d0419629",
   "metadata": {},
   "outputs": [
    {
     "data": {
      "text/plain": [
       "(319795, 18)"
      ]
     },
     "execution_count": 137,
     "metadata": {},
     "output_type": "execute_result"
    }
   ],
   "source": [
    "# Make sure the shape is correct at 18 columns\n",
    "df.shape"
   ]
  },
  {
   "cell_type": "markdown",
   "id": "f966a14e",
   "metadata": {},
   "source": [
    "# Graph Data"
   ]
  },
  {
   "cell_type": "code",
   "execution_count": 138,
   "id": "c0105ff0",
   "metadata": {},
   "outputs": [
    {
     "data": {
      "text/html": [
       "<div>\n",
       "<style scoped>\n",
       "    .dataframe tbody tr th:only-of-type {\n",
       "        vertical-align: middle;\n",
       "    }\n",
       "\n",
       "    .dataframe tbody tr th {\n",
       "        vertical-align: top;\n",
       "    }\n",
       "\n",
       "    .dataframe thead th {\n",
       "        text-align: right;\n",
       "    }\n",
       "</style>\n",
       "<table border=\"1\" class=\"dataframe\">\n",
       "  <thead>\n",
       "    <tr style=\"text-align: right;\">\n",
       "      <th></th>\n",
       "      <th>HeartDisease</th>\n",
       "      <th>BMI</th>\n",
       "      <th>Smoking</th>\n",
       "      <th>AlcoholDrinking</th>\n",
       "      <th>Stroke</th>\n",
       "      <th>PhysicalHealth</th>\n",
       "      <th>MentalHealth</th>\n",
       "      <th>DiffWalking</th>\n",
       "      <th>Sex</th>\n",
       "      <th>AgeCategory</th>\n",
       "      <th>Race</th>\n",
       "      <th>Diabetic</th>\n",
       "      <th>PhysicalActivity</th>\n",
       "      <th>GenHealth</th>\n",
       "      <th>SleepTime</th>\n",
       "      <th>Asthma</th>\n",
       "      <th>KidneyDisease</th>\n",
       "      <th>SkinCancer</th>\n",
       "    </tr>\n",
       "  </thead>\n",
       "  <tbody>\n",
       "    <tr>\n",
       "      <th>0</th>\n",
       "      <td>No</td>\n",
       "      <td>16.60</td>\n",
       "      <td>Yes</td>\n",
       "      <td>No</td>\n",
       "      <td>No</td>\n",
       "      <td>3.0</td>\n",
       "      <td>30.0</td>\n",
       "      <td>No</td>\n",
       "      <td>Female</td>\n",
       "      <td>55-59</td>\n",
       "      <td>White</td>\n",
       "      <td>Yes</td>\n",
       "      <td>Yes</td>\n",
       "      <td>Very good</td>\n",
       "      <td>5.0</td>\n",
       "      <td>Yes</td>\n",
       "      <td>No</td>\n",
       "      <td>Yes</td>\n",
       "    </tr>\n",
       "    <tr>\n",
       "      <th>1</th>\n",
       "      <td>No</td>\n",
       "      <td>20.34</td>\n",
       "      <td>No</td>\n",
       "      <td>No</td>\n",
       "      <td>Yes</td>\n",
       "      <td>0.0</td>\n",
       "      <td>0.0</td>\n",
       "      <td>No</td>\n",
       "      <td>Female</td>\n",
       "      <td>80 or older</td>\n",
       "      <td>White</td>\n",
       "      <td>No</td>\n",
       "      <td>Yes</td>\n",
       "      <td>Very good</td>\n",
       "      <td>7.0</td>\n",
       "      <td>No</td>\n",
       "      <td>No</td>\n",
       "      <td>No</td>\n",
       "    </tr>\n",
       "    <tr>\n",
       "      <th>2</th>\n",
       "      <td>No</td>\n",
       "      <td>26.58</td>\n",
       "      <td>Yes</td>\n",
       "      <td>No</td>\n",
       "      <td>No</td>\n",
       "      <td>20.0</td>\n",
       "      <td>30.0</td>\n",
       "      <td>No</td>\n",
       "      <td>Male</td>\n",
       "      <td>65-69</td>\n",
       "      <td>White</td>\n",
       "      <td>Yes</td>\n",
       "      <td>Yes</td>\n",
       "      <td>Fair</td>\n",
       "      <td>8.0</td>\n",
       "      <td>Yes</td>\n",
       "      <td>No</td>\n",
       "      <td>No</td>\n",
       "    </tr>\n",
       "    <tr>\n",
       "      <th>3</th>\n",
       "      <td>No</td>\n",
       "      <td>24.21</td>\n",
       "      <td>No</td>\n",
       "      <td>No</td>\n",
       "      <td>No</td>\n",
       "      <td>0.0</td>\n",
       "      <td>0.0</td>\n",
       "      <td>No</td>\n",
       "      <td>Female</td>\n",
       "      <td>75-79</td>\n",
       "      <td>White</td>\n",
       "      <td>No</td>\n",
       "      <td>No</td>\n",
       "      <td>Good</td>\n",
       "      <td>6.0</td>\n",
       "      <td>No</td>\n",
       "      <td>No</td>\n",
       "      <td>Yes</td>\n",
       "    </tr>\n",
       "    <tr>\n",
       "      <th>4</th>\n",
       "      <td>No</td>\n",
       "      <td>23.71</td>\n",
       "      <td>No</td>\n",
       "      <td>No</td>\n",
       "      <td>No</td>\n",
       "      <td>28.0</td>\n",
       "      <td>0.0</td>\n",
       "      <td>Yes</td>\n",
       "      <td>Female</td>\n",
       "      <td>40-44</td>\n",
       "      <td>White</td>\n",
       "      <td>No</td>\n",
       "      <td>Yes</td>\n",
       "      <td>Very good</td>\n",
       "      <td>8.0</td>\n",
       "      <td>No</td>\n",
       "      <td>No</td>\n",
       "      <td>No</td>\n",
       "    </tr>\n",
       "  </tbody>\n",
       "</table>\n",
       "</div>"
      ],
      "text/plain": [
       "  HeartDisease    BMI Smoking AlcoholDrinking Stroke  PhysicalHealth  \\\n",
       "0           No  16.60     Yes              No     No             3.0   \n",
       "1           No  20.34      No              No    Yes             0.0   \n",
       "2           No  26.58     Yes              No     No            20.0   \n",
       "3           No  24.21      No              No     No             0.0   \n",
       "4           No  23.71      No              No     No            28.0   \n",
       "\n",
       "   MentalHealth DiffWalking     Sex  AgeCategory   Race Diabetic  \\\n",
       "0          30.0          No  Female        55-59  White      Yes   \n",
       "1           0.0          No  Female  80 or older  White       No   \n",
       "2          30.0          No    Male        65-69  White      Yes   \n",
       "3           0.0          No  Female        75-79  White       No   \n",
       "4           0.0         Yes  Female        40-44  White       No   \n",
       "\n",
       "  PhysicalActivity  GenHealth  SleepTime Asthma KidneyDisease SkinCancer  \n",
       "0              Yes  Very good        5.0    Yes            No        Yes  \n",
       "1              Yes  Very good        7.0     No            No         No  \n",
       "2              Yes       Fair        8.0    Yes            No         No  \n",
       "3               No       Good        6.0     No            No        Yes  \n",
       "4              Yes  Very good        8.0     No            No         No  "
      ]
     },
     "execution_count": 138,
     "metadata": {},
     "output_type": "execute_result"
    }
   ],
   "source": [
    "# First 5 values\n",
    "df.head()\n"
   ]
  },
  {
   "cell_type": "code",
   "execution_count": 139,
   "id": "9863f7f6",
   "metadata": {},
   "outputs": [
    {
     "data": {
      "text/html": [
       "<div>\n",
       "<style scoped>\n",
       "    .dataframe tbody tr th:only-of-type {\n",
       "        vertical-align: middle;\n",
       "    }\n",
       "\n",
       "    .dataframe tbody tr th {\n",
       "        vertical-align: top;\n",
       "    }\n",
       "\n",
       "    .dataframe thead th {\n",
       "        text-align: right;\n",
       "    }\n",
       "</style>\n",
       "<table border=\"1\" class=\"dataframe\">\n",
       "  <thead>\n",
       "    <tr style=\"text-align: right;\">\n",
       "      <th></th>\n",
       "      <th>HeartDisease</th>\n",
       "      <th>BMI</th>\n",
       "      <th>Smoking</th>\n",
       "      <th>AlcoholDrinking</th>\n",
       "      <th>Stroke</th>\n",
       "      <th>PhysicalHealth</th>\n",
       "      <th>MentalHealth</th>\n",
       "      <th>DiffWalking</th>\n",
       "      <th>Sex</th>\n",
       "      <th>AgeCategory</th>\n",
       "      <th>Race</th>\n",
       "      <th>Diabetic</th>\n",
       "      <th>PhysicalActivity</th>\n",
       "      <th>GenHealth</th>\n",
       "      <th>SleepTime</th>\n",
       "      <th>Asthma</th>\n",
       "      <th>KidneyDisease</th>\n",
       "      <th>SkinCancer</th>\n",
       "    </tr>\n",
       "  </thead>\n",
       "  <tbody>\n",
       "    <tr>\n",
       "      <th>319790</th>\n",
       "      <td>Yes</td>\n",
       "      <td>27.41</td>\n",
       "      <td>Yes</td>\n",
       "      <td>No</td>\n",
       "      <td>No</td>\n",
       "      <td>7.0</td>\n",
       "      <td>0.0</td>\n",
       "      <td>Yes</td>\n",
       "      <td>Male</td>\n",
       "      <td>60-64</td>\n",
       "      <td>Hispanic</td>\n",
       "      <td>Yes</td>\n",
       "      <td>No</td>\n",
       "      <td>Fair</td>\n",
       "      <td>6.0</td>\n",
       "      <td>Yes</td>\n",
       "      <td>No</td>\n",
       "      <td>No</td>\n",
       "    </tr>\n",
       "    <tr>\n",
       "      <th>319791</th>\n",
       "      <td>No</td>\n",
       "      <td>29.84</td>\n",
       "      <td>Yes</td>\n",
       "      <td>No</td>\n",
       "      <td>No</td>\n",
       "      <td>0.0</td>\n",
       "      <td>0.0</td>\n",
       "      <td>No</td>\n",
       "      <td>Male</td>\n",
       "      <td>35-39</td>\n",
       "      <td>Hispanic</td>\n",
       "      <td>No</td>\n",
       "      <td>Yes</td>\n",
       "      <td>Very good</td>\n",
       "      <td>5.0</td>\n",
       "      <td>Yes</td>\n",
       "      <td>No</td>\n",
       "      <td>No</td>\n",
       "    </tr>\n",
       "    <tr>\n",
       "      <th>319792</th>\n",
       "      <td>No</td>\n",
       "      <td>24.24</td>\n",
       "      <td>No</td>\n",
       "      <td>No</td>\n",
       "      <td>No</td>\n",
       "      <td>0.0</td>\n",
       "      <td>0.0</td>\n",
       "      <td>No</td>\n",
       "      <td>Female</td>\n",
       "      <td>45-49</td>\n",
       "      <td>Hispanic</td>\n",
       "      <td>No</td>\n",
       "      <td>Yes</td>\n",
       "      <td>Good</td>\n",
       "      <td>6.0</td>\n",
       "      <td>No</td>\n",
       "      <td>No</td>\n",
       "      <td>No</td>\n",
       "    </tr>\n",
       "    <tr>\n",
       "      <th>319793</th>\n",
       "      <td>No</td>\n",
       "      <td>32.81</td>\n",
       "      <td>No</td>\n",
       "      <td>No</td>\n",
       "      <td>No</td>\n",
       "      <td>0.0</td>\n",
       "      <td>0.0</td>\n",
       "      <td>No</td>\n",
       "      <td>Female</td>\n",
       "      <td>25-29</td>\n",
       "      <td>Hispanic</td>\n",
       "      <td>No</td>\n",
       "      <td>No</td>\n",
       "      <td>Good</td>\n",
       "      <td>12.0</td>\n",
       "      <td>No</td>\n",
       "      <td>No</td>\n",
       "      <td>No</td>\n",
       "    </tr>\n",
       "    <tr>\n",
       "      <th>319794</th>\n",
       "      <td>No</td>\n",
       "      <td>46.56</td>\n",
       "      <td>No</td>\n",
       "      <td>No</td>\n",
       "      <td>No</td>\n",
       "      <td>0.0</td>\n",
       "      <td>0.0</td>\n",
       "      <td>No</td>\n",
       "      <td>Female</td>\n",
       "      <td>80 or older</td>\n",
       "      <td>Hispanic</td>\n",
       "      <td>No</td>\n",
       "      <td>Yes</td>\n",
       "      <td>Good</td>\n",
       "      <td>8.0</td>\n",
       "      <td>No</td>\n",
       "      <td>No</td>\n",
       "      <td>No</td>\n",
       "    </tr>\n",
       "  </tbody>\n",
       "</table>\n",
       "</div>"
      ],
      "text/plain": [
       "       HeartDisease    BMI Smoking AlcoholDrinking Stroke  PhysicalHealth  \\\n",
       "319790          Yes  27.41     Yes              No     No             7.0   \n",
       "319791           No  29.84     Yes              No     No             0.0   \n",
       "319792           No  24.24      No              No     No             0.0   \n",
       "319793           No  32.81      No              No     No             0.0   \n",
       "319794           No  46.56      No              No     No             0.0   \n",
       "\n",
       "        MentalHealth DiffWalking     Sex  AgeCategory      Race Diabetic  \\\n",
       "319790           0.0         Yes    Male        60-64  Hispanic      Yes   \n",
       "319791           0.0          No    Male        35-39  Hispanic       No   \n",
       "319792           0.0          No  Female        45-49  Hispanic       No   \n",
       "319793           0.0          No  Female        25-29  Hispanic       No   \n",
       "319794           0.0          No  Female  80 or older  Hispanic       No   \n",
       "\n",
       "       PhysicalActivity  GenHealth  SleepTime Asthma KidneyDisease SkinCancer  \n",
       "319790               No       Fair        6.0    Yes            No         No  \n",
       "319791              Yes  Very good        5.0    Yes            No         No  \n",
       "319792              Yes       Good        6.0     No            No         No  \n",
       "319793               No       Good       12.0     No            No         No  \n",
       "319794              Yes       Good        8.0     No            No         No  "
      ]
     },
     "execution_count": 139,
     "metadata": {},
     "output_type": "execute_result"
    }
   ],
   "source": [
    "#last 5 values\n",
    "df.tail()"
   ]
  },
  {
   "cell_type": "code",
   "execution_count": 140,
   "id": "773b9960",
   "metadata": {},
   "outputs": [
    {
     "data": {
      "image/png": "[encoded data removed]",
      "text/plain": [
       "<Figure size 432x288 with 1 Axes>"
      ]
     },
     "metadata": {},
     "output_type": "display_data"
    }
   ],
   "source": [
    "#Show target counts\n",
    "\n",
    "df[\"HeartDisease\"].value_counts().plot(kind=\"pie\", autopct= '%1.1f%%');\n",
    "\n",
    "\n"
   ]
  },
  {
   "cell_type": "markdown",
   "id": "3f416967",
   "metadata": {},
   "source": [
    "* Since The Values are so unbalanced the model weights need to be adjusted"
   ]
  },
  {
   "cell_type": "code",
   "execution_count": 141,
   "id": "302ff1c5",
   "metadata": {},
   "outputs": [
    {
     "data": {
      "text/plain": [
       "HeartDisease        0\n",
       "BMI                 0\n",
       "Smoking             0\n",
       "AlcoholDrinking     0\n",
       "Stroke              0\n",
       "PhysicalHealth      0\n",
       "MentalHealth        0\n",
       "DiffWalking         0\n",
       "Sex                 0\n",
       "AgeCategory         0\n",
       "Race                0\n",
       "Diabetic            0\n",
       "PhysicalActivity    0\n",
       "GenHealth           0\n",
       "SleepTime           0\n",
       "Asthma              0\n",
       "KidneyDisease       0\n",
       "SkinCancer          0\n",
       "dtype: int64"
      ]
     },
     "execution_count": 141,
     "metadata": {},
     "output_type": "execute_result"
    }
   ],
   "source": [
    "# get information on each coulumn and check for any missing values. \n",
    "#There should be no missing values because the dataset is clean.\n",
    "df.isna().sum()"
   ]
  },
  {
   "cell_type": "markdown",
   "id": "b7cf9ada",
   "metadata": {},
   "source": [
    "# Comparing some values "
   ]
  },
  {
   "cell_type": "markdown",
   "id": "91395c25",
   "metadata": {},
   "source": [
    "### plots using logarithmic scale for the y axis to show representations in the unbalanced data set"
   ]
  },
  {
   "cell_type": "code",
   "execution_count": 142,
   "id": "690e68d8",
   "metadata": {},
   "outputs": [
    {
     "data": {
      "image/png": "[encoded data removed]",
      "text/plain": [
       "<Figure size 432x288 with 1 Axes>"
      ]
     },
     "metadata": {
      "needs_background": "light"
     },
     "output_type": "display_data"
    }
   ],
   "source": [
    "pd.crosstab(df.Smoking, df.HeartDisease).plot(kind='bar', logy = True);"
   ]
  },
  {
   "cell_type": "code",
   "execution_count": 143,
   "id": "f70795e0",
   "metadata": {},
   "outputs": [
    {
     "data": {
      "image/png": "[encoded data removed]",
      "text/plain": [
       "<Figure size 504x504 with 1 Axes>"
      ]
     },
     "metadata": {
      "needs_background": "light"
     },
     "output_type": "display_data"
    }
   ],
   "source": [
    "pd.crosstab(df.Diabetic, df.HeartDisease).plot(kind = 'bar', logy = True, figsize =(7 , 7));"
   ]
  },
  {
   "cell_type": "markdown",
   "id": "ca113c1c",
   "metadata": {},
   "source": [
    "# Convert all binary categorical columns to 1 or 0"
   ]
  },
  {
   "cell_type": "code",
   "execution_count": 144,
   "id": "b3286640",
   "metadata": {},
   "outputs": [],
   "source": [
    "# all yes no data collumns\n",
    "ynDataCols=['HeartDisease','Smoking','AlcoholDrinking','Stroke', 'DiffWalking', 'PhysicalActivity', 'Asthma', 'KidneyDisease', 'SkinCancer']\n",
    "\n",
    "# convert all yes no collumns to 1 or 0 \n",
    "for x in ynDataCols:\n",
    "    df[x].replace(['Yes', \"No\"],[1,0], inplace=True)\n",
    "    \n",
    "\n",
    "# convert male female to 1 or 0\n",
    "df['Sex'].replace(['Male', \"Female\"],[1,0], inplace=True)"
   ]
  },
  {
   "cell_type": "code",
   "execution_count": null,
   "id": "298c9e6b",
   "metadata": {},
   "outputs": [],
   "source": []
  },
  {
   "cell_type": "markdown",
   "id": "9beb744e",
   "metadata": {},
   "source": [
    "## Corolation Matrix with all Yes/ No Values and Sex added in as Boolean\n"
   ]
  },
  {
   "cell_type": "code",
   "execution_count": 145,
   "id": "d3793af8",
   "metadata": {},
   "outputs": [
    {
     "data": {
      "image/png": "[encoded data removed]",
      "text/plain": [
       "<Figure size 1080x1080 with 2 Axes>"
      ]
     },
     "metadata": {
      "needs_background": "light"
     },
     "output_type": "display_data"
    }
   ],
   "source": [
    "# set up corr matrix\n",
    "corr_num_val = df.corr()\n",
    "fix, ax = plt.subplots(figsize = (15,15))\n",
    "ax = sns.heatmap(corr_num_val, annot = True, linewidths= .5, fmt=\".3f\", );\n"
   ]
  },
  {
   "cell_type": "markdown",
   "id": "81de202a",
   "metadata": {},
   "source": [
    "### Now that all of the binary categorical data is 0 or 1 Diff Walking is the highest individual correlation to heart disease; though Stroke and physicalActivity are not far behind."
   ]
  },
  {
   "cell_type": "markdown",
   "id": "7c36f778",
   "metadata": {},
   "source": [
    "#### Explore the realationship between physicalActivity value and heartDisease"
   ]
  },
  {
   "cell_type": "code",
   "execution_count": 146,
   "id": "a0e5dbba",
   "metadata": {},
   "outputs": [
    {
     "data": {
      "image/png": "[encoded data removed]",
      "text/plain": [
       "<Figure size 720x720 with 2 Axes>"
      ]
     },
     "metadata": {},
     "output_type": "display_data"
    }
   ],
   "source": [
    "# set up 2 empty dataframes for physical Activity value\n",
    "physicallyActive = pd.DataFrame()\n",
    "physicallyInactive = pd.DataFrame()\n",
    "\n",
    "#set dataframes equal to the 2 levels of physical activity\n",
    "physicallyActive = df[df['PhysicalActivity'] == 1]\n",
    "physicallyInactive = df[df['PhysicalActivity'] == 0]\n",
    "\n",
    "#plot 2 sets side by side based on value counts of heart disease\n",
    "fig, axes = plt.subplots(1,2)\n",
    "\n",
    "physicallyInactive['HeartDisease'].value_counts().plot(kind = 'pie', ax=axes[0],figsize =(10,10), title=\"Physically Inactive\", autopct= '%1.1f%%' );\n",
    "physicallyActive['HeartDisease'].value_counts().plot(kind = 'pie', ax=axes[1], figsize =(10,10), title='Physically Active', autopct= '%1.1f%%');\n",
    "\n",
    "\n"
   ]
  },
  {
   "cell_type": "markdown",
   "id": "6bdb178e",
   "metadata": {},
   "source": [
    "##### The above pie charts show your twice as likely to have heart disease if you dont exerscise at least once every 30 days."
   ]
  },
  {
   "cell_type": "markdown",
   "id": "3bb70471",
   "metadata": {},
   "source": [
    "#### Explore the relationship between diffWalking and heartDisease values\n"
   ]
  },
  {
   "cell_type": "code",
   "execution_count": 147,
   "id": "5343eb39",
   "metadata": {},
   "outputs": [
    {
     "data": {
      "image/png": "[encoded data removed]",
      "text/plain": [
       "<Figure size 720x720 with 2 Axes>"
      ]
     },
     "metadata": {},
     "output_type": "display_data"
    }
   ],
   "source": [
    "# set up 2 empty dataframes for Diff Walking values\n",
    "yDiffWalking = pd.DataFrame()\n",
    "nDiffWalking = pd.DataFrame()\n",
    "\n",
    "#set dataframes equal to the 2 levels of Diff Walking value\n",
    "yDiffWalking = df[df['DiffWalking'] == 1]\n",
    "nDiffWalking = df[df['DiffWalking'] == 0]\n",
    "\n",
    "#plot 2 sets side by side based on value counts of heart disease\n",
    "fig, axes = plt.subplots(1,2)\n",
    "\n",
    "nDiffWalking['HeartDisease'].value_counts().plot(kind = 'pie', ax=axes[0],figsize =(10,10), title=\"No Difficulty Walking\", autopct= '%1.1f%%' );\n",
    "yDiffWalking['HeartDisease'].value_counts().plot(kind = 'pie', ax=axes[1], figsize =(10,10), title='Has Difficulty Walking', autopct= '%1.1f%%');\n"
   ]
  },
  {
   "cell_type": "markdown",
   "id": "2e2fa664",
   "metadata": {},
   "source": [
    "#### The above pie charts show that you are almost 4 times more likely to have heart disease if you have dificulty walking"
   ]
  },
  {
   "cell_type": "markdown",
   "id": "898ec33f",
   "metadata": {},
   "source": [
    "#### Explore the relationship between Stroke and heartDisease values\n"
   ]
  },
  {
   "cell_type": "code",
   "execution_count": 148,
   "id": "69ca2859",
   "metadata": {},
   "outputs": [
    {
     "data": {
      "image/png": "[encoded data removed]",
      "text/plain": [
       "<Figure size 720x720 with 2 Axes>"
      ]
     },
     "metadata": {},
     "output_type": "display_data"
    }
   ],
   "source": [
    "# set up 2 empty dataframes for physical Activity value\n",
    "yStroke = pd.DataFrame()\n",
    "nStroke = pd.DataFrame()\n",
    "\n",
    "#set dataframes equal to the 2 levels of physical activity\n",
    "yStroke = df[df['Stroke'] == 1]\n",
    "nStroke = df[df['Stroke'] == 0]\n",
    "\n",
    "#plot 2 sets side by side based on value counts of heart disease\n",
    "fig, axes = plt.subplots(1,2)\n",
    "\n",
    "yStroke['HeartDisease'].value_counts().plot(kind = 'pie', ax=axes[0],figsize =(10,10), title=\"Has Had A Stroke\", autopct= '%1.1f%%' );\n",
    "nStroke['HeartDisease'].value_counts().plot(kind = 'pie', ax=axes[1], figsize =(10,10), title='Never Had A Stroke', autopct= '%1.1f%%');\n",
    "\n",
    "\n"
   ]
  },
  {
   "cell_type": "markdown",
   "id": "aeedcd84",
   "metadata": {},
   "source": [
    "#### The above pie charts show that you are almost 5 times more likely to have heart disease if you have had a stroke."
   ]
  },
  {
   "cell_type": "markdown",
   "id": "33163e7b",
   "metadata": {},
   "source": [
    "# Pre Processing the rest of the categorical columns into one hot encoded columns"
   ]
  },
  {
   "cell_type": "code",
   "execution_count": 149,
   "id": "52ed13a6",
   "metadata": {},
   "outputs": [],
   "source": [
    "#split into x and y\n",
    "\n",
    "X = df.drop('HeartDisease', axis =1)\n",
    "y = df['HeartDisease']\n",
    "\n",
    "rcat= ['AgeCategory', 'Race', 'GenHealth', 'Diabetic']\n",
    "\n",
    "one_hot = OneHotEncoder()\n",
    "transformer = ColumnTransformer([(\"one_hot\",\n",
    "                                one_hot,\n",
    "                                rcat)],\n",
    "                               remainder = \"passthrough\")\n",
    "\n",
    "transformed_X = transformer.fit_transform(X)\n",
    "\n",
    "\n"
   ]
  },
  {
   "cell_type": "code",
   "execution_count": 150,
   "id": "70e775b9",
   "metadata": {},
   "outputs": [],
   "source": [
    "X_train, X_test, y_train, y_test = train_test_split(transformed_X,y, test_size=0.2)"
   ]
  },
  {
   "cell_type": "code",
   "execution_count": 19,
   "id": "8b7e1014",
   "metadata": {},
   "outputs": [
    {
     "data": {
      "text/plain": [
       "RandomForestClassifier()"
      ]
     },
     "execution_count": 19,
     "metadata": {},
     "output_type": "execute_result"
    }
   ],
   "source": [
    "#model\n",
    "model = RandomForestClassifier()\n",
    "\n",
    "model.fit(X_train, y_train)\n"
   ]
  },
  {
   "cell_type": "code",
   "execution_count": 20,
   "id": "ad2858ab",
   "metadata": {},
   "outputs": [
    {
     "data": {
      "text/plain": [
       "0.9037977454306665"
      ]
     },
     "execution_count": 20,
     "metadata": {},
     "output_type": "execute_result"
    }
   ],
   "source": [
    "# score model\n",
    "model.score(X_test, y_test)"
   ]
  },
  {
   "cell_type": "code",
   "execution_count": 22,
   "id": "4317e0d7",
   "metadata": {},
   "outputs": [
    {
     "name": "stdout",
     "output_type": "stream",
     "text": [
      "Fitting 5 folds for each of 30 candidates, totalling 150 fits\n"
     ]
    },
    {
     "data": {
      "text/plain": [
       "RandomizedSearchCV(cv=5, estimator=RandomForestClassifier(), n_iter=30,\n",
       "                   param_distributions={'max_depth': [None, 3, 5, 10],\n",
       "                                        'max_features': ['auto', 'sqrt', 'log2',\n",
       "                                                         None],\n",
       "                                        'min_samples_leaf': array([ 2,  4,  6,  8, 10, 12, 14, 16, 18]),\n",
       "                                        'min_samples_split': array([ 2,  4,  6,  8, 10, 12, 14, 16, 18]),\n",
       "                                        'n_estimators': array([ 10,  60, 110, 160, 210, 260, 310, 360, 410, 460, 510, 560, 610,\n",
       "       660, 710, 760, 810, 860, 910, 960])},\n",
       "                   verbose=True)"
      ]
     },
     "execution_count": 22,
     "metadata": {},
     "output_type": "execute_result"
    }
   ],
   "source": [
    "paramGrid = {\"n_estimators\" : np.arange(10, 1000, 50),\n",
    "            \"max_features\" : [\"auto\", \"sqrt\", \"log2\", None],\n",
    "            \"max_depth\" : [None, 3, 5 , 10],\n",
    "            \"min_samples_split\" : np.arange(2,20,2),\n",
    "            \"min_samples_leaf\" : np.arange(2,20,2)}\n",
    "\n",
    "rf_rscv = RandomizedSearchCV(RandomForestClassifier(),\n",
    "                            param_distributions=paramGrid,\n",
    "                            cv=5,\n",
    "                            n_iter=30,\n",
    "                            verbose = True)\n",
    "\n",
    "rf_rscv.fit(X_train,y_train)"
   ]
  },
  {
   "cell_type": "code",
   "execution_count": 23,
   "id": "04971bc5",
   "metadata": {},
   "outputs": [
    {
     "data": {
      "text/plain": [
       "{'n_estimators': 110,\n",
       " 'min_samples_split': 12,\n",
       " 'min_samples_leaf': 6,\n",
       " 'max_features': 'auto',\n",
       " 'max_depth': None}"
      ]
     },
     "execution_count": 23,
     "metadata": {},
     "output_type": "execute_result"
    }
   ],
   "source": [
    "rf_rscv.best_params_"
   ]
  },
  {
   "cell_type": "code",
   "execution_count": 24,
   "id": "aeb3f784",
   "metadata": {},
   "outputs": [
    {
     "data": {
      "text/plain": [
       "0.9141168561109461"
      ]
     },
     "execution_count": 24,
     "metadata": {},
     "output_type": "execute_result"
    }
   ],
   "source": [
    "rf_rscv.score(X_test, y_test)"
   ]
  },
  {
   "cell_type": "code",
   "execution_count": 25,
   "id": "bebc43ef",
   "metadata": {},
   "outputs": [
    {
     "data": {
      "text/plain": [
       "0.9162041307203198"
      ]
     },
     "execution_count": 25,
     "metadata": {},
     "output_type": "execute_result"
    }
   ],
   "source": [
    "rf_rscv.best_score_"
   ]
  },
  {
   "cell_type": "code",
   "execution_count": 26,
   "id": "79dff542",
   "metadata": {},
   "outputs": [],
   "source": [
    "y_preds = rf_rscv.predict(X_test)"
   ]
  },
  {
   "cell_type": "code",
   "execution_count": 27,
   "id": "8d7d2230",
   "metadata": {},
   "outputs": [
    {
     "data": {
      "text/plain": [
       "208319    1\n",
       "202074    0\n",
       "171214    0\n",
       "294751    0\n",
       "5639      0\n",
       "         ..\n",
       "158531    0\n",
       "304753    0\n",
       "65006     0\n",
       "288177    0\n",
       "318682    0\n",
       "Name: HeartDisease, Length: 63959, dtype: int64"
      ]
     },
     "execution_count": 27,
     "metadata": {},
     "output_type": "execute_result"
    }
   ],
   "source": [
    "y_test"
   ]
  },
  {
   "cell_type": "code",
   "execution_count": 31,
   "id": "23fc7329",
   "metadata": {},
   "outputs": [
    {
     "data": {
      "text/plain": [
       "<sklearn.metrics._plot.roc_curve.RocCurveDisplay at 0x26123d687f0>"
      ]
     },
     "execution_count": 31,
     "metadata": {},
     "output_type": "execute_result"
    },
    {
     "data": {
      "image/png": "[encoded data removed]",
      "text/plain": [
       "<Figure size 432x288 with 1 Axes>"
      ]
     },
     "metadata": {
      "needs_background": "light"
     },
     "output_type": "display_data"
    }
   ],
   "source": [
    "plot_roc_curve(rf_rscv, X_test, y_test)"
   ]
  },
  {
   "cell_type": "code",
   "execution_count": 34,
   "id": "00ba34a0",
   "metadata": {},
   "outputs": [
    {
     "name": "stdout",
     "output_type": "stream",
     "text": [
      "[[58200   192]\n",
      " [ 5301   266]]\n"
     ]
    }
   ],
   "source": [
    "print(confusion_matrix(y_test, y_preds))"
   ]
  },
  {
   "cell_type": "code",
   "execution_count": 39,
   "id": "3b24a990",
   "metadata": {},
   "outputs": [
    {
     "data": {
      "image/png": "[encoded data removed]",
      "text/plain": [
       "<Figure size 1080x1080 with 1 Axes>"
      ]
     },
     "metadata": {},
     "output_type": "display_data"
    }
   ],
   "source": [
    "sns.set(font_scale=1.5)\n",
    "\n",
    "def plot_conf_mat(y_test, y_preds):\n",
    "    fig, ax = plt.subplots(figsize = (15,15))\n",
    "    ax = sns.heatmap(confusion_matrix(y_test, y_preds),\n",
    "                    annot=True,\n",
    "                    cbar=False)\n",
    "    plt.xlabel(\"True Label\")\n",
    "    plt.ylabel(\"Predicted Label\")\n",
    "    \n",
    "    bottom, top = ax.get_ylim()\n",
    "    ax.set_ylim(bottom + 0.5, top - 0.5)\n",
    "    \n",
    "plot_conf_mat(y_test, y_preds)"
   ]
  },
  {
   "cell_type": "markdown",
   "id": "beeab0b9",
   "metadata": {},
   "source": [
    "## results of the confusion matrix\n",
    "* 58000 true negative\n",
    "* 5300  false positivem\n",
    "* 190 false negative\n",
    "* 270 true positive"
   ]
  },
  {
   "cell_type": "code",
   "execution_count": 69,
   "id": "9b9fd2cc",
   "metadata": {},
   "outputs": [
    {
     "name": "stdout",
     "output_type": "stream",
     "text": [
      "              precision    recall  f1-score   support\n",
      "\n",
      "           0       0.92      1.00      0.95     58392\n",
      "           1       0.58      0.05      0.09      5567\n",
      "\n",
      "    accuracy                           0.91     63959\n",
      "   macro avg       0.75      0.52      0.52     63959\n",
      "weighted avg       0.89      0.91      0.88     63959\n",
      "\n"
     ]
    }
   ],
   "source": [
    "print(classification_report(y_test, y_preds))"
   ]
  },
  {
   "cell_type": "markdown",
   "id": "b116f8da",
   "metadata": {},
   "source": [
    "## The above model is struggling with the minority class. going to try with balanced class_weight"
   ]
  },
  {
   "cell_type": "code",
   "execution_count": 70,
   "id": "1ce186e8",
   "metadata": {},
   "outputs": [],
   "source": [
    "test_model = RandomForestClassifier(class_weight= 'balanced')"
   ]
  },
  {
   "cell_type": "code",
   "execution_count": 66,
   "id": "baf85f79",
   "metadata": {},
   "outputs": [
    {
     "data": {
      "text/plain": [
       "RandomForestClassifier(class_weight='balanced_subsample')"
      ]
     },
     "execution_count": 66,
     "metadata": {},
     "output_type": "execute_result"
    }
   ],
   "source": [
    "test_model.fit(X_train,y_train)"
   ]
  },
  {
   "cell_type": "code",
   "execution_count": 67,
   "id": "28aeb54d",
   "metadata": {},
   "outputs": [
    {
     "data": {
      "text/plain": [
       "0.9010459825825919"
      ]
     },
     "execution_count": 67,
     "metadata": {},
     "output_type": "execute_result"
    }
   ],
   "source": [
    "test_model.score(X_test, y_test)"
   ]
  },
  {
   "cell_type": "code",
   "execution_count": 68,
   "id": "63d7d122",
   "metadata": {},
   "outputs": [],
   "source": [
    "test_ypreds=test_model.predict(X_test)"
   ]
  },
  {
   "cell_type": "code",
   "execution_count": 60,
   "id": "825f654f",
   "metadata": {},
   "outputs": [
    {
     "name": "stdout",
     "output_type": "stream",
     "text": [
      "              precision    recall  f1-score   support\n",
      "\n",
      "           0       0.92      0.98      0.95     58392\n",
      "           1       0.31      0.11      0.17      5567\n",
      "\n",
      "    accuracy                           0.90     63959\n",
      "   macro avg       0.62      0.54      0.56     63959\n",
      "weighted avg       0.87      0.90      0.88     63959\n",
      "\n"
     ]
    }
   ],
   "source": [
    "print(classification_report(y_test, test_ypreds))"
   ]
  },
  {
   "cell_type": "markdown",
   "id": "1cf5afe7",
   "metadata": {},
   "source": [
    "## The above model did a little bit better with recall and f1- score, how ever the precision got worse."
   ]
  },
  {
   "cell_type": "markdown",
   "id": "6f4544b1",
   "metadata": {},
   "source": [
    "### Trying with a smaller sample of the data to keep the classes balanced"
   ]
  },
  {
   "cell_type": "code",
   "execution_count": 71,
   "id": "c1afa065",
   "metadata": {},
   "outputs": [
    {
     "data": {
      "text/html": [
       "<div>\n",
       "<style scoped>\n",
       "    .dataframe tbody tr th:only-of-type {\n",
       "        vertical-align: middle;\n",
       "    }\n",
       "\n",
       "    .dataframe tbody tr th {\n",
       "        vertical-align: top;\n",
       "    }\n",
       "\n",
       "    .dataframe thead th {\n",
       "        text-align: right;\n",
       "    }\n",
       "</style>\n",
       "<table border=\"1\" class=\"dataframe\">\n",
       "  <thead>\n",
       "    <tr style=\"text-align: right;\">\n",
       "      <th></th>\n",
       "      <th>HeartDisease</th>\n",
       "      <th>BMI</th>\n",
       "      <th>Smoking</th>\n",
       "      <th>AlcoholDrinking</th>\n",
       "      <th>Stroke</th>\n",
       "      <th>PhysicalHealth</th>\n",
       "      <th>MentalHealth</th>\n",
       "      <th>DiffWalking</th>\n",
       "      <th>Sex</th>\n",
       "      <th>AgeCategory</th>\n",
       "      <th>Race</th>\n",
       "      <th>Diabetic</th>\n",
       "      <th>PhysicalActivity</th>\n",
       "      <th>GenHealth</th>\n",
       "      <th>SleepTime</th>\n",
       "      <th>Asthma</th>\n",
       "      <th>KidneyDisease</th>\n",
       "      <th>SkinCancer</th>\n",
       "    </tr>\n",
       "  </thead>\n",
       "  <tbody>\n",
       "    <tr>\n",
       "      <th>0</th>\n",
       "      <td>0</td>\n",
       "      <td>16.60</td>\n",
       "      <td>1</td>\n",
       "      <td>0</td>\n",
       "      <td>0</td>\n",
       "      <td>3.0</td>\n",
       "      <td>30.0</td>\n",
       "      <td>0</td>\n",
       "      <td>0</td>\n",
       "      <td>55-59</td>\n",
       "      <td>White</td>\n",
       "      <td>Yes</td>\n",
       "      <td>1</td>\n",
       "      <td>Very good</td>\n",
       "      <td>5.0</td>\n",
       "      <td>1</td>\n",
       "      <td>0</td>\n",
       "      <td>1</td>\n",
       "    </tr>\n",
       "    <tr>\n",
       "      <th>1</th>\n",
       "      <td>0</td>\n",
       "      <td>20.34</td>\n",
       "      <td>0</td>\n",
       "      <td>0</td>\n",
       "      <td>1</td>\n",
       "      <td>0.0</td>\n",
       "      <td>0.0</td>\n",
       "      <td>0</td>\n",
       "      <td>0</td>\n",
       "      <td>80 or older</td>\n",
       "      <td>White</td>\n",
       "      <td>No</td>\n",
       "      <td>1</td>\n",
       "      <td>Very good</td>\n",
       "      <td>7.0</td>\n",
       "      <td>0</td>\n",
       "      <td>0</td>\n",
       "      <td>0</td>\n",
       "    </tr>\n",
       "    <tr>\n",
       "      <th>2</th>\n",
       "      <td>0</td>\n",
       "      <td>26.58</td>\n",
       "      <td>1</td>\n",
       "      <td>0</td>\n",
       "      <td>0</td>\n",
       "      <td>20.0</td>\n",
       "      <td>30.0</td>\n",
       "      <td>0</td>\n",
       "      <td>1</td>\n",
       "      <td>65-69</td>\n",
       "      <td>White</td>\n",
       "      <td>Yes</td>\n",
       "      <td>1</td>\n",
       "      <td>Fair</td>\n",
       "      <td>8.0</td>\n",
       "      <td>1</td>\n",
       "      <td>0</td>\n",
       "      <td>0</td>\n",
       "    </tr>\n",
       "    <tr>\n",
       "      <th>3</th>\n",
       "      <td>0</td>\n",
       "      <td>24.21</td>\n",
       "      <td>0</td>\n",
       "      <td>0</td>\n",
       "      <td>0</td>\n",
       "      <td>0.0</td>\n",
       "      <td>0.0</td>\n",
       "      <td>0</td>\n",
       "      <td>0</td>\n",
       "      <td>75-79</td>\n",
       "      <td>White</td>\n",
       "      <td>No</td>\n",
       "      <td>0</td>\n",
       "      <td>Good</td>\n",
       "      <td>6.0</td>\n",
       "      <td>0</td>\n",
       "      <td>0</td>\n",
       "      <td>1</td>\n",
       "    </tr>\n",
       "    <tr>\n",
       "      <th>4</th>\n",
       "      <td>0</td>\n",
       "      <td>23.71</td>\n",
       "      <td>0</td>\n",
       "      <td>0</td>\n",
       "      <td>0</td>\n",
       "      <td>28.0</td>\n",
       "      <td>0.0</td>\n",
       "      <td>1</td>\n",
       "      <td>0</td>\n",
       "      <td>40-44</td>\n",
       "      <td>White</td>\n",
       "      <td>No</td>\n",
       "      <td>1</td>\n",
       "      <td>Very good</td>\n",
       "      <td>8.0</td>\n",
       "      <td>0</td>\n",
       "      <td>0</td>\n",
       "      <td>0</td>\n",
       "    </tr>\n",
       "    <tr>\n",
       "      <th>...</th>\n",
       "      <td>...</td>\n",
       "      <td>...</td>\n",
       "      <td>...</td>\n",
       "      <td>...</td>\n",
       "      <td>...</td>\n",
       "      <td>...</td>\n",
       "      <td>...</td>\n",
       "      <td>...</td>\n",
       "      <td>...</td>\n",
       "      <td>...</td>\n",
       "      <td>...</td>\n",
       "      <td>...</td>\n",
       "      <td>...</td>\n",
       "      <td>...</td>\n",
       "      <td>...</td>\n",
       "      <td>...</td>\n",
       "      <td>...</td>\n",
       "      <td>...</td>\n",
       "    </tr>\n",
       "    <tr>\n",
       "      <th>319790</th>\n",
       "      <td>1</td>\n",
       "      <td>27.41</td>\n",
       "      <td>1</td>\n",
       "      <td>0</td>\n",
       "      <td>0</td>\n",
       "      <td>7.0</td>\n",
       "      <td>0.0</td>\n",
       "      <td>1</td>\n",
       "      <td>1</td>\n",
       "      <td>60-64</td>\n",
       "      <td>Hispanic</td>\n",
       "      <td>Yes</td>\n",
       "      <td>0</td>\n",
       "      <td>Fair</td>\n",
       "      <td>6.0</td>\n",
       "      <td>1</td>\n",
       "      <td>0</td>\n",
       "      <td>0</td>\n",
       "    </tr>\n",
       "    <tr>\n",
       "      <th>319791</th>\n",
       "      <td>0</td>\n",
       "      <td>29.84</td>\n",
       "      <td>1</td>\n",
       "      <td>0</td>\n",
       "      <td>0</td>\n",
       "      <td>0.0</td>\n",
       "      <td>0.0</td>\n",
       "      <td>0</td>\n",
       "      <td>1</td>\n",
       "      <td>35-39</td>\n",
       "      <td>Hispanic</td>\n",
       "      <td>No</td>\n",
       "      <td>1</td>\n",
       "      <td>Very good</td>\n",
       "      <td>5.0</td>\n",
       "      <td>1</td>\n",
       "      <td>0</td>\n",
       "      <td>0</td>\n",
       "    </tr>\n",
       "    <tr>\n",
       "      <th>319792</th>\n",
       "      <td>0</td>\n",
       "      <td>24.24</td>\n",
       "      <td>0</td>\n",
       "      <td>0</td>\n",
       "      <td>0</td>\n",
       "      <td>0.0</td>\n",
       "      <td>0.0</td>\n",
       "      <td>0</td>\n",
       "      <td>0</td>\n",
       "      <td>45-49</td>\n",
       "      <td>Hispanic</td>\n",
       "      <td>No</td>\n",
       "      <td>1</td>\n",
       "      <td>Good</td>\n",
       "      <td>6.0</td>\n",
       "      <td>0</td>\n",
       "      <td>0</td>\n",
       "      <td>0</td>\n",
       "    </tr>\n",
       "    <tr>\n",
       "      <th>319793</th>\n",
       "      <td>0</td>\n",
       "      <td>32.81</td>\n",
       "      <td>0</td>\n",
       "      <td>0</td>\n",
       "      <td>0</td>\n",
       "      <td>0.0</td>\n",
       "      <td>0.0</td>\n",
       "      <td>0</td>\n",
       "      <td>0</td>\n",
       "      <td>25-29</td>\n",
       "      <td>Hispanic</td>\n",
       "      <td>No</td>\n",
       "      <td>0</td>\n",
       "      <td>Good</td>\n",
       "      <td>12.0</td>\n",
       "      <td>0</td>\n",
       "      <td>0</td>\n",
       "      <td>0</td>\n",
       "    </tr>\n",
       "    <tr>\n",
       "      <th>319794</th>\n",
       "      <td>0</td>\n",
       "      <td>46.56</td>\n",
       "      <td>0</td>\n",
       "      <td>0</td>\n",
       "      <td>0</td>\n",
       "      <td>0.0</td>\n",
       "      <td>0.0</td>\n",
       "      <td>0</td>\n",
       "      <td>0</td>\n",
       "      <td>80 or older</td>\n",
       "      <td>Hispanic</td>\n",
       "      <td>No</td>\n",
       "      <td>1</td>\n",
       "      <td>Good</td>\n",
       "      <td>8.0</td>\n",
       "      <td>0</td>\n",
       "      <td>0</td>\n",
       "      <td>0</td>\n",
       "    </tr>\n",
       "  </tbody>\n",
       "</table>\n",
       "<p>319795 rows × 18 columns</p>\n",
       "</div>"
      ],
      "text/plain": [
       "        HeartDisease    BMI  Smoking  AlcoholDrinking  Stroke  PhysicalHealth  \\\n",
       "0                  0  16.60        1                0       0             3.0   \n",
       "1                  0  20.34        0                0       1             0.0   \n",
       "2                  0  26.58        1                0       0            20.0   \n",
       "3                  0  24.21        0                0       0             0.0   \n",
       "4                  0  23.71        0                0       0            28.0   \n",
       "...              ...    ...      ...              ...     ...             ...   \n",
       "319790             1  27.41        1                0       0             7.0   \n",
       "319791             0  29.84        1                0       0             0.0   \n",
       "319792             0  24.24        0                0       0             0.0   \n",
       "319793             0  32.81        0                0       0             0.0   \n",
       "319794             0  46.56        0                0       0             0.0   \n",
       "\n",
       "        MentalHealth  DiffWalking  Sex  AgeCategory      Race Diabetic  \\\n",
       "0               30.0            0    0        55-59     White      Yes   \n",
       "1                0.0            0    0  80 or older     White       No   \n",
       "2               30.0            0    1        65-69     White      Yes   \n",
       "3                0.0            0    0        75-79     White       No   \n",
       "4                0.0            1    0        40-44     White       No   \n",
       "...              ...          ...  ...          ...       ...      ...   \n",
       "319790           0.0            1    1        60-64  Hispanic      Yes   \n",
       "319791           0.0            0    1        35-39  Hispanic       No   \n",
       "319792           0.0            0    0        45-49  Hispanic       No   \n",
       "319793           0.0            0    0        25-29  Hispanic       No   \n",
       "319794           0.0            0    0  80 or older  Hispanic       No   \n",
       "\n",
       "        PhysicalActivity  GenHealth  SleepTime  Asthma  KidneyDisease  \\\n",
       "0                      1  Very good        5.0       1              0   \n",
       "1                      1  Very good        7.0       0              0   \n",
       "2                      1       Fair        8.0       1              0   \n",
       "3                      0       Good        6.0       0              0   \n",
       "4                      1  Very good        8.0       0              0   \n",
       "...                  ...        ...        ...     ...            ...   \n",
       "319790                 0       Fair        6.0       1              0   \n",
       "319791                 1  Very good        5.0       1              0   \n",
       "319792                 1       Good        6.0       0              0   \n",
       "319793                 0       Good       12.0       0              0   \n",
       "319794                 1       Good        8.0       0              0   \n",
       "\n",
       "        SkinCancer  \n",
       "0                1  \n",
       "1                0  \n",
       "2                0  \n",
       "3                1  \n",
       "4                0  \n",
       "...            ...  \n",
       "319790           0  \n",
       "319791           0  \n",
       "319792           0  \n",
       "319793           0  \n",
       "319794           0  \n",
       "\n",
       "[319795 rows x 18 columns]"
      ]
     },
     "execution_count": 71,
     "metadata": {},
     "output_type": "execute_result"
    }
   ],
   "source": [
    "df"
   ]
  },
  {
   "cell_type": "markdown",
   "id": "8ebaefdf",
   "metadata": {},
   "source": [
    "## get ~50,000  samples with ~25,000 of each class"
   ]
  },
  {
   "cell_type": "code",
   "execution_count": 80,
   "id": "e9be0e71",
   "metadata": {},
   "outputs": [],
   "source": [
    "heart_Disease = df[df['HeartDisease'] == 1]  #27373\n",
    "\n",
    "all_no_heart_Disease = df[df['HeartDisease'] == 0] # all data with no heartdisease\n",
    "\n",
    "all_no_heart_Disease = shuffle(all_no_heart_Disease) # shuffel all of the no heart disease data to help avoid bias\n",
    "\n",
    "\n",
    "no_heart_Disease = all_no_heart_Disease.head(n=27373) # 27373 with no heart disease to create balanced data set"
   ]
  },
  {
   "cell_type": "code",
   "execution_count": 86,
   "id": "0882b1bd",
   "metadata": {},
   "outputs": [
    {
     "name": "stderr",
     "output_type": "stream",
     "text": [
      "C:\\Users\\josep\\AppData\\Local\\Temp\\ipykernel_21608\\330243335.py:1: FutureWarning: The frame.append method is deprecated and will be removed from pandas in a future version. Use pandas.concat instead.\n",
      "  subset_df = heart_Disease.append(no_heart_Disease, ignore_index=True)\n"
     ]
    }
   ],
   "source": [
    "subset_df = heart_Disease.append(no_heart_Disease, ignore_index=True)  # combine the 2 datasets "
   ]
  },
  {
   "cell_type": "code",
   "execution_count": 88,
   "id": "0303719f",
   "metadata": {},
   "outputs": [],
   "source": [
    "subset_df = shuffle(subset_df) # shuffel the dataset "
   ]
  },
  {
   "cell_type": "code",
   "execution_count": 89,
   "id": "9bc4204c",
   "metadata": {},
   "outputs": [
    {
     "data": {
      "text/html": [
       "<div>\n",
       "<style scoped>\n",
       "    .dataframe tbody tr th:only-of-type {\n",
       "        vertical-align: middle;\n",
       "    }\n",
       "\n",
       "    .dataframe tbody tr th {\n",
       "        vertical-align: top;\n",
       "    }\n",
       "\n",
       "    .dataframe thead th {\n",
       "        text-align: right;\n",
       "    }\n",
       "</style>\n",
       "<table border=\"1\" class=\"dataframe\">\n",
       "  <thead>\n",
       "    <tr style=\"text-align: right;\">\n",
       "      <th></th>\n",
       "      <th>HeartDisease</th>\n",
       "      <th>BMI</th>\n",
       "      <th>Smoking</th>\n",
       "      <th>AlcoholDrinking</th>\n",
       "      <th>Stroke</th>\n",
       "      <th>PhysicalHealth</th>\n",
       "      <th>MentalHealth</th>\n",
       "      <th>DiffWalking</th>\n",
       "      <th>Sex</th>\n",
       "      <th>AgeCategory</th>\n",
       "      <th>Race</th>\n",
       "      <th>Diabetic</th>\n",
       "      <th>PhysicalActivity</th>\n",
       "      <th>GenHealth</th>\n",
       "      <th>SleepTime</th>\n",
       "      <th>Asthma</th>\n",
       "      <th>KidneyDisease</th>\n",
       "      <th>SkinCancer</th>\n",
       "    </tr>\n",
       "  </thead>\n",
       "  <tbody>\n",
       "    <tr>\n",
       "      <th>12212</th>\n",
       "      <td>1</td>\n",
       "      <td>30.11</td>\n",
       "      <td>1</td>\n",
       "      <td>0</td>\n",
       "      <td>0</td>\n",
       "      <td>5.0</td>\n",
       "      <td>0.0</td>\n",
       "      <td>0</td>\n",
       "      <td>1</td>\n",
       "      <td>80 or older</td>\n",
       "      <td>White</td>\n",
       "      <td>No</td>\n",
       "      <td>1</td>\n",
       "      <td>Fair</td>\n",
       "      <td>7.0</td>\n",
       "      <td>0</td>\n",
       "      <td>0</td>\n",
       "      <td>1</td>\n",
       "    </tr>\n",
       "    <tr>\n",
       "      <th>5669</th>\n",
       "      <td>1</td>\n",
       "      <td>46.96</td>\n",
       "      <td>0</td>\n",
       "      <td>0</td>\n",
       "      <td>0</td>\n",
       "      <td>0.0</td>\n",
       "      <td>2.0</td>\n",
       "      <td>0</td>\n",
       "      <td>1</td>\n",
       "      <td>45-49</td>\n",
       "      <td>Other</td>\n",
       "      <td>No, borderline diabetes</td>\n",
       "      <td>1</td>\n",
       "      <td>Fair</td>\n",
       "      <td>6.0</td>\n",
       "      <td>1</td>\n",
       "      <td>0</td>\n",
       "      <td>0</td>\n",
       "    </tr>\n",
       "    <tr>\n",
       "      <th>39945</th>\n",
       "      <td>0</td>\n",
       "      <td>21.54</td>\n",
       "      <td>0</td>\n",
       "      <td>0</td>\n",
       "      <td>0</td>\n",
       "      <td>0.0</td>\n",
       "      <td>0.0</td>\n",
       "      <td>0</td>\n",
       "      <td>0</td>\n",
       "      <td>65-69</td>\n",
       "      <td>White</td>\n",
       "      <td>No</td>\n",
       "      <td>1</td>\n",
       "      <td>Very good</td>\n",
       "      <td>6.0</td>\n",
       "      <td>0</td>\n",
       "      <td>0</td>\n",
       "      <td>1</td>\n",
       "    </tr>\n",
       "    <tr>\n",
       "      <th>37866</th>\n",
       "      <td>0</td>\n",
       "      <td>30.27</td>\n",
       "      <td>0</td>\n",
       "      <td>0</td>\n",
       "      <td>0</td>\n",
       "      <td>14.0</td>\n",
       "      <td>3.0</td>\n",
       "      <td>0</td>\n",
       "      <td>1</td>\n",
       "      <td>45-49</td>\n",
       "      <td>White</td>\n",
       "      <td>No</td>\n",
       "      <td>1</td>\n",
       "      <td>Fair</td>\n",
       "      <td>8.0</td>\n",
       "      <td>0</td>\n",
       "      <td>0</td>\n",
       "      <td>0</td>\n",
       "    </tr>\n",
       "    <tr>\n",
       "      <th>44412</th>\n",
       "      <td>0</td>\n",
       "      <td>29.62</td>\n",
       "      <td>0</td>\n",
       "      <td>0</td>\n",
       "      <td>0</td>\n",
       "      <td>0.0</td>\n",
       "      <td>0.0</td>\n",
       "      <td>0</td>\n",
       "      <td>0</td>\n",
       "      <td>55-59</td>\n",
       "      <td>Black</td>\n",
       "      <td>No, borderline diabetes</td>\n",
       "      <td>1</td>\n",
       "      <td>Very good</td>\n",
       "      <td>6.0</td>\n",
       "      <td>0</td>\n",
       "      <td>0</td>\n",
       "      <td>0</td>\n",
       "    </tr>\n",
       "    <tr>\n",
       "      <th>...</th>\n",
       "      <td>...</td>\n",
       "      <td>...</td>\n",
       "      <td>...</td>\n",
       "      <td>...</td>\n",
       "      <td>...</td>\n",
       "      <td>...</td>\n",
       "      <td>...</td>\n",
       "      <td>...</td>\n",
       "      <td>...</td>\n",
       "      <td>...</td>\n",
       "      <td>...</td>\n",
       "      <td>...</td>\n",
       "      <td>...</td>\n",
       "      <td>...</td>\n",
       "      <td>...</td>\n",
       "      <td>...</td>\n",
       "      <td>...</td>\n",
       "      <td>...</td>\n",
       "    </tr>\n",
       "    <tr>\n",
       "      <th>30596</th>\n",
       "      <td>0</td>\n",
       "      <td>22.89</td>\n",
       "      <td>0</td>\n",
       "      <td>1</td>\n",
       "      <td>0</td>\n",
       "      <td>0.0</td>\n",
       "      <td>4.0</td>\n",
       "      <td>0</td>\n",
       "      <td>1</td>\n",
       "      <td>18-24</td>\n",
       "      <td>Hispanic</td>\n",
       "      <td>No</td>\n",
       "      <td>1</td>\n",
       "      <td>Very good</td>\n",
       "      <td>7.0</td>\n",
       "      <td>0</td>\n",
       "      <td>0</td>\n",
       "      <td>0</td>\n",
       "    </tr>\n",
       "    <tr>\n",
       "      <th>19925</th>\n",
       "      <td>1</td>\n",
       "      <td>29.56</td>\n",
       "      <td>1</td>\n",
       "      <td>0</td>\n",
       "      <td>0</td>\n",
       "      <td>0.0</td>\n",
       "      <td>0.0</td>\n",
       "      <td>0</td>\n",
       "      <td>1</td>\n",
       "      <td>80 or older</td>\n",
       "      <td>White</td>\n",
       "      <td>No</td>\n",
       "      <td>1</td>\n",
       "      <td>Very good</td>\n",
       "      <td>7.0</td>\n",
       "      <td>0</td>\n",
       "      <td>0</td>\n",
       "      <td>0</td>\n",
       "    </tr>\n",
       "    <tr>\n",
       "      <th>12762</th>\n",
       "      <td>1</td>\n",
       "      <td>19.80</td>\n",
       "      <td>1</td>\n",
       "      <td>0</td>\n",
       "      <td>0</td>\n",
       "      <td>0.0</td>\n",
       "      <td>0.0</td>\n",
       "      <td>0</td>\n",
       "      <td>1</td>\n",
       "      <td>80 or older</td>\n",
       "      <td>White</td>\n",
       "      <td>Yes</td>\n",
       "      <td>1</td>\n",
       "      <td>Poor</td>\n",
       "      <td>8.0</td>\n",
       "      <td>0</td>\n",
       "      <td>0</td>\n",
       "      <td>0</td>\n",
       "    </tr>\n",
       "    <tr>\n",
       "      <th>8059</th>\n",
       "      <td>1</td>\n",
       "      <td>24.27</td>\n",
       "      <td>1</td>\n",
       "      <td>0</td>\n",
       "      <td>0</td>\n",
       "      <td>0.0</td>\n",
       "      <td>0.0</td>\n",
       "      <td>0</td>\n",
       "      <td>1</td>\n",
       "      <td>70-74</td>\n",
       "      <td>White</td>\n",
       "      <td>No</td>\n",
       "      <td>1</td>\n",
       "      <td>Good</td>\n",
       "      <td>6.0</td>\n",
       "      <td>0</td>\n",
       "      <td>0</td>\n",
       "      <td>1</td>\n",
       "    </tr>\n",
       "    <tr>\n",
       "      <th>16952</th>\n",
       "      <td>1</td>\n",
       "      <td>27.46</td>\n",
       "      <td>0</td>\n",
       "      <td>0</td>\n",
       "      <td>0</td>\n",
       "      <td>0.0</td>\n",
       "      <td>0.0</td>\n",
       "      <td>0</td>\n",
       "      <td>1</td>\n",
       "      <td>60-64</td>\n",
       "      <td>Hispanic</td>\n",
       "      <td>Yes</td>\n",
       "      <td>0</td>\n",
       "      <td>Very good</td>\n",
       "      <td>8.0</td>\n",
       "      <td>0</td>\n",
       "      <td>0</td>\n",
       "      <td>0</td>\n",
       "    </tr>\n",
       "  </tbody>\n",
       "</table>\n",
       "<p>54746 rows × 18 columns</p>\n",
       "</div>"
      ],
      "text/plain": [
       "       HeartDisease    BMI  Smoking  AlcoholDrinking  Stroke  PhysicalHealth  \\\n",
       "12212             1  30.11        1                0       0             5.0   \n",
       "5669              1  46.96        0                0       0             0.0   \n",
       "39945             0  21.54        0                0       0             0.0   \n",
       "37866             0  30.27        0                0       0            14.0   \n",
       "44412             0  29.62        0                0       0             0.0   \n",
       "...             ...    ...      ...              ...     ...             ...   \n",
       "30596             0  22.89        0                1       0             0.0   \n",
       "19925             1  29.56        1                0       0             0.0   \n",
       "12762             1  19.80        1                0       0             0.0   \n",
       "8059              1  24.27        1                0       0             0.0   \n",
       "16952             1  27.46        0                0       0             0.0   \n",
       "\n",
       "       MentalHealth  DiffWalking  Sex  AgeCategory      Race  \\\n",
       "12212           0.0            0    1  80 or older     White   \n",
       "5669            2.0            0    1        45-49     Other   \n",
       "39945           0.0            0    0        65-69     White   \n",
       "37866           3.0            0    1        45-49     White   \n",
       "44412           0.0            0    0        55-59     Black   \n",
       "...             ...          ...  ...          ...       ...   \n",
       "30596           4.0            0    1        18-24  Hispanic   \n",
       "19925           0.0            0    1  80 or older     White   \n",
       "12762           0.0            0    1  80 or older     White   \n",
       "8059            0.0            0    1        70-74     White   \n",
       "16952           0.0            0    1        60-64  Hispanic   \n",
       "\n",
       "                      Diabetic  PhysicalActivity  GenHealth  SleepTime  \\\n",
       "12212                       No                 1       Fair        7.0   \n",
       "5669   No, borderline diabetes                 1       Fair        6.0   \n",
       "39945                       No                 1  Very good        6.0   \n",
       "37866                       No                 1       Fair        8.0   \n",
       "44412  No, borderline diabetes                 1  Very good        6.0   \n",
       "...                        ...               ...        ...        ...   \n",
       "30596                       No                 1  Very good        7.0   \n",
       "19925                       No                 1  Very good        7.0   \n",
       "12762                      Yes                 1       Poor        8.0   \n",
       "8059                        No                 1       Good        6.0   \n",
       "16952                      Yes                 0  Very good        8.0   \n",
       "\n",
       "       Asthma  KidneyDisease  SkinCancer  \n",
       "12212       0              0           1  \n",
       "5669        1              0           0  \n",
       "39945       0              0           1  \n",
       "37866       0              0           0  \n",
       "44412       0              0           0  \n",
       "...       ...            ...         ...  \n",
       "30596       0              0           0  \n",
       "19925       0              0           0  \n",
       "12762       0              0           0  \n",
       "8059        0              0           1  \n",
       "16952       0              0           0  \n",
       "\n",
       "[54746 rows x 18 columns]"
      ]
     },
     "execution_count": 89,
     "metadata": {},
     "output_type": "execute_result"
    }
   ],
   "source": [
    "subset_df"
   ]
  },
  {
   "cell_type": "code",
   "execution_count": 109,
   "id": "f6dda3d7",
   "metadata": {},
   "outputs": [],
   "source": [
    "#convert categorical data to numbers\n",
    "\n",
    "bX = subset_df.drop('HeartDisease', axis =1)\n",
    "by = subset_df['HeartDisease']\n",
    "\n",
    "brcat= ['AgeCategory', 'Race', 'GenHealth', 'Diabetic']\n",
    "\n",
    "b_one_hot = OneHotEncoder()\n",
    "btransformer = ColumnTransformer([(\"one_hot\",\n",
    "                                b_one_hot,\n",
    "                                brcat)],\n",
    "                               remainder = \"passthrough\")\n",
    "\n",
    "btransformed_X = btransformer.fit_transform(bX)\n",
    "\n"
   ]
  },
  {
   "cell_type": "code",
   "execution_count": 110,
   "id": "5254f528",
   "metadata": {},
   "outputs": [],
   "source": [
    "# Create instance of model for the balanced data set\n",
    "bss_rfc_model = RandomForestClassifier()"
   ]
  },
  {
   "cell_type": "code",
   "execution_count": 111,
   "id": "07da9e0c",
   "metadata": {},
   "outputs": [],
   "source": [
    "# split the data\n",
    "bX_train, bX_test, by_train, by_test = train_test_split(btransformed_X,by, test_size=.2)"
   ]
  },
  {
   "cell_type": "code",
   "execution_count": 112,
   "id": "2b132ebf",
   "metadata": {},
   "outputs": [
    {
     "data": {
      "text/plain": [
       "count    43796.000000\n",
       "mean         0.498699\n",
       "std          0.500004\n",
       "min          0.000000\n",
       "25%          0.000000\n",
       "50%          0.000000\n",
       "75%          1.000000\n",
       "max          1.000000\n",
       "Name: HeartDisease, dtype: float64"
      ]
     },
     "execution_count": 112,
     "metadata": {},
     "output_type": "execute_result"
    }
   ],
   "source": [
    "by_train.describe()"
   ]
  },
  {
   "cell_type": "code",
   "execution_count": 113,
   "id": "e9932a73",
   "metadata": {},
   "outputs": [],
   "source": [
    "#Check Base Model\n",
    "bss_rfc_model = RandomForestClassifier().fit(bX_train,by_train)\n",
    "\n",
    "\n",
    "\n"
   ]
  },
  {
   "cell_type": "code",
   "execution_count": 114,
   "id": "375d4921",
   "metadata": {},
   "outputs": [
    {
     "data": {
      "text/plain": [
       "0.7442922374429224"
      ]
     },
     "execution_count": 114,
     "metadata": {},
     "output_type": "execute_result"
    }
   ],
   "source": [
    "bss_rfc_model.score(bX_test,by_test) # Score base model"
   ]
  },
  {
   "cell_type": "code",
   "execution_count": 115,
   "id": "b623ef71",
   "metadata": {},
   "outputs": [],
   "source": [
    "bypreds=bss_rfc_model.predict(bX_test)"
   ]
  },
  {
   "cell_type": "code",
   "execution_count": 116,
   "id": "197f3d9d",
   "metadata": {},
   "outputs": [
    {
     "name": "stdout",
     "output_type": "stream",
     "text": [
      "              precision    recall  f1-score   support\n",
      "\n",
      "           0       0.76      0.71      0.73      5418\n",
      "           1       0.73      0.78      0.75      5532\n",
      "\n",
      "    accuracy                           0.74     10950\n",
      "   macro avg       0.75      0.74      0.74     10950\n",
      "weighted avg       0.75      0.74      0.74     10950\n",
      "\n"
     ]
    }
   ],
   "source": [
    "print(classification_report(by_test, bypreds))"
   ]
  },
  {
   "cell_type": "code",
   "execution_count": 118,
   "id": "02cb54a3",
   "metadata": {},
   "outputs": [
    {
     "name": "stdout",
     "output_type": "stream",
     "text": [
      "Fitting 5 folds for each of 20 candidates, totalling 100 fits\n"
     ]
    },
    {
     "data": {
      "text/plain": [
       "RandomizedSearchCV(cv=5, estimator=RandomForestClassifier(), n_iter=20,\n",
       "                   param_distributions={'max_depth': [None, 3, 5, 10],\n",
       "                                        'max_features': ['auto', 'sqrt', 'log2',\n",
       "                                                         None],\n",
       "                                        'min_samples_leaf': array([ 2,  4,  6,  8, 10, 12, 14, 16, 18]),\n",
       "                                        'min_samples_split': array([ 2,  4,  6,  8, 10, 12, 14, 16, 18]),\n",
       "                                        'n_estimators': array([ 10,  50,  90, 130, 170])},\n",
       "                   verbose=True)"
      ]
     },
     "execution_count": 118,
     "metadata": {},
     "output_type": "execute_result"
    }
   ],
   "source": [
    "# Create a parameter grid for random search  and fit the model\n",
    "\n",
    "b_paramGrid = {\"n_estimators\" : np.arange(10, 200, 40),\n",
    "            \"max_features\" : [\"auto\", \"sqrt\", \"log2\", None],\n",
    "            \"max_depth\" : [None, 3, 5 , 10],\n",
    "            \"min_samples_split\" : np.arange(2,20,2),\n",
    "            \"min_samples_leaf\" : np.arange(2,20,2)}\n",
    "\n",
    "brf_rscv = RandomizedSearchCV(RandomForestClassifier(),\n",
    "                            param_distributions=paramGrid,\n",
    "                            cv=5,\n",
    "                            n_iter=20,\n",
    "                            verbose = True)\n",
    "\n",
    "brf_rscv.fit(bX_train,by_train)"
   ]
  },
  {
   "cell_type": "code",
   "execution_count": 119,
   "id": "84131e96",
   "metadata": {},
   "outputs": [
    {
     "data": {
      "text/plain": [
       "RandomForestClassifier(max_features='log2', min_samples_leaf=10,\n",
       "                       min_samples_split=10, n_estimators=50)"
      ]
     },
     "execution_count": 119,
     "metadata": {},
     "output_type": "execute_result"
    }
   ],
   "source": [
    "brf_rscv.best_estimator_"
   ]
  },
  {
   "cell_type": "code",
   "execution_count": 121,
   "id": "4afab139",
   "metadata": {},
   "outputs": [
    {
     "data": {
      "text/plain": [
       "0.762649475738197"
      ]
     },
     "execution_count": 121,
     "metadata": {},
     "output_type": "execute_result"
    }
   ],
   "source": [
    "brf_rscv.best_score_ #score the best parameters"
   ]
  },
  {
   "cell_type": "markdown",
   "id": "50054a7b",
   "metadata": {},
   "source": [
    "# Save the best model"
   ]
  },
  {
   "cell_type": "markdown",
   "id": "644b0880",
   "metadata": {},
   "source": [
    "### I'm Going to save the model of the complete data set because False negatives seem like the most detramental result for this project and the tuned no balance weight model did the best at limiting those."
   ]
  },
  {
   "cell_type": "code",
   "execution_count": 151,
   "id": "b0e817c9",
   "metadata": {},
   "outputs": [
    {
     "data": {
      "text/plain": [
       "RandomForestClassifier(min_samples_leaf=6, min_samples_split=12,\n",
       "                       n_estimators=110)"
      ]
     },
     "execution_count": 151,
     "metadata": {},
     "output_type": "execute_result"
    }
   ],
   "source": [
    "#create the model for export based on the best returned parameters from rscv and refit\n",
    "e_model = RandomForestClassifier(n_estimators= 110, min_samples_split=12,min_samples_leaf=6,max_features='auto',max_depth= None)\n",
    "\n",
    "e_model.fit(X_train,y_train)\n",
    "\n"
   ]
  },
  {
   "cell_type": "code",
   "execution_count": 152,
   "id": "c2f0acc4",
   "metadata": {},
   "outputs": [
    {
     "data": {
      "text/plain": [
       "0.9168686189590206"
      ]
     },
     "execution_count": 152,
     "metadata": {},
     "output_type": "execute_result"
    }
   ],
   "source": [
    "#double check the score before export\n",
    "e_model.score(X_test,y_test)"
   ]
  },
  {
   "cell_type": "code",
   "execution_count": 156,
   "id": "c4aac1cb",
   "metadata": {},
   "outputs": [],
   "source": [
    "pickle.dump(e_model,open(\"Models/model.pkl\",\"wb\"))"
   ]
  },
  {
   "cell_type": "code",
   "execution_count": null,
   "id": "fabbcbee",
   "metadata": {},
   "outputs": [],
   "source": []
  }
 ],
 "metadata": {
  "kernelspec": {
   "display_name": "Python 3 (ipykernel)",
   "language": "python",
   "name": "python3"
  },
  "language_info": {
   "codemirror_mode": {
    "name": "ipython",
    "version": 3
   },
   "file_extension": ".py",
   "mimetype": "text/x-python",
   "name": "python",
   "nbconvert_exporter": "python",
   "pygments_lexer": "ipython3",
   "version": "3.9.12"
  }
 },
 "nbformat": 4,
 "nbformat_minor": 5
}
